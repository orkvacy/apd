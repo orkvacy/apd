{
 "cells": [
  {
   "cell_type": "code",
   "execution_count": 4,
   "metadata": {},
   "outputs": [],
   "source": [
    "def garis(hasil):\n",
    "    if hasil % 2 == 0:\n",
    "        print(\"#\", end=\" \")\n",
    "    else:\n",
    "        print(\"X\", end=\" \")"
   ]
  },
  {
   "cell_type": "code",
   "execution_count": 12,
   "metadata": {},
   "outputs": [
    {
     "name": "stdout",
     "output_type": "stream",
     "text": [
      "  1   2   3   4   5   6   7   8   9  10  11  12 \n",
      " X   #   X   #   X   #   X   #   X   #   X   #  \n",
      "  2   4   6   8  10  12  14  16  18  20  22  24 \n",
      " #   #   #   #   #   #   #   #   #   #   #   #  \n",
      "  3   6   9  12  15  18  21  24  27  30  33  36 \n",
      " X   #   X   #   X   #   X   #   X   #   X   #  \n",
      "  4   8  12  16  20  24  28  32  36  40  44  48 \n",
      " #   #   #   #   #   #   #   #   #   #   #   #  \n",
      "  5  10  15  20  25  30  35  40  45  50  55  60 \n",
      " X   #   X   #   X   #   X   #   X   #   X   #  \n",
      "  6  12  18  24  30  36  42  48  54  60  66  72 \n",
      " #   #   #   #   #   #   #   #   #   #   #   #  \n",
      "  7  14  21  28  35  42  49  56  63  70  77  84 \n",
      " X   #   X   #   X   #   X   #   X   #   X   #  \n",
      "  8  16  24  32  40  48  56  64  72  80  88  96 \n",
      " #   #   #   #   #   #   #   #   #   #   #   #  \n",
      "  9  18  27  36  45  54  63  72  81  90  99 108 \n",
      " X   #   X   #   X   #   X   #   X   #   X   #  \n",
      " 10  20  30  40  50  60  70  80  90 100 110 120 \n",
      " #   #   #   #   #   #   #   #   #   #   #   #  \n",
      " 11  22  33  44  55  66  77  88  99 110 121 132 \n",
      " X   #   X   #   X   #   X   #   X   #   X   #  \n",
      " 12  24  36  48  60  72  84  96 108 120 132 144 \n",
      " #   #   #   #   #   #   #   #   #   #   #   #  \n"
     ]
    }
   ],
   "source": [
    "def tabel(n):\n",
    "    for i in range(1, n + 1):\n",
    "        for j in range(1, n + 1):\n",
    "            hasil = i * j\n",
    "            print(f\"{hasil:3}\", end=\" \")\n",
    "        print()\n",
    "        \n",
    "        for j in range(1, n + 1):\n",
    "            hasil = i * j\n",
    "            simbol = garis(hasil)\n",
    "            print(f\"{simbol:^3}\", end=\" \")  #nyesuain lebar garis\n",
    "        print()\n",
    "\n",
    "tabel(12)\n"
   ]
  },
  {
   "cell_type": "code",
   "execution_count": 20,
   "metadata": {},
   "outputs": [
    {
     "name": "stdout",
     "output_type": "stream",
     "text": [
      "  1   2   3   4   5   6   7   8   9  10  11  12 \n",
      " X   #   X   #   X   #   X   #   X   #   X   #  \n",
      "  2   4   6   8  10  12  14  16  18  20  22  24 \n",
      " #   #   #   #   #   #   #   #   #   #   #   #  \n",
      "  3   6   9  12  15  18  21  24  27  30  33  36 \n",
      " X   #   X   #   X   #   X   #   X   #   X   #  \n",
      "  4   8  12  16  20  24  28  32  36  40  44  48 \n",
      " #   #   #   #   #   #   #   #   #   #   #   #  \n",
      "  5  10  15  20  25  30  35  40  45  50  55  60 \n",
      " X   #   X   #   X   #   X   #   X   #   X   #  \n",
      "  6  12  18  24  30  36  42  48  54  60  66  72 \n",
      " #   #   #   #   #   #   #   #   #   #   #   #  \n",
      "  7  14  21  28  35  42  49  56  63  70  77  84 \n",
      " X   #   X   #   X   #   X   #   X   #   X   #  \n",
      "  8  16  24  32  40  48  56  64  72  80  88  96 \n",
      " #   #   #   #   #   #   #   #   #   #   #   #  \n",
      "  9  18  27  36  45  54  63  72  81  90  99 108 \n",
      " X   #   X   #   X   #   X   #   X   #   X   #  \n",
      " 10  20  30  40  50  60  70  80  90 100 110 120 \n",
      " #   #   #   #   #   #   #   #   #   #   #   #  \n",
      " 11  22  33  44  55  66  77  88  99 110 121 132 \n",
      " X   #   X   #   X   #   X   #   X   #   X   #  \n",
      " 12  24  36  48  60  72  84  96 108 120 132 144 \n",
      " #   #   #   #   #   #   #   #   #   #   #   #  \n"
     ]
    }
   ],
   "source": [
    "def tabel(n):\n",
    "    for i in range(1, n + 1):\n",
    "        for j in range(1, n + 1):\n",
    "            hasil = i * j\n",
    "            print(f\"{hasil:3}\", end=\" \")\n",
    "        print()\n",
    "        for j in range(1, n + 1):\n",
    "            hasil = i * j\n",
    "            garis(hasil)\n",
    "            simbol = garis(hasil)\n",
    "            print(f\"{simbol:^3}\", end=\" \")\n",
    "        print()\n",
    "\n",
    "tabel(12)"
   ]
  },
  {
   "cell_type": "code",
   "execution_count": 22,
   "metadata": {},
   "outputs": [
    {
     "name": "stdout",
     "output_type": "stream",
     "text": [
      "1   2   3   4   5   6   7   8   9   10  11  12  \n",
      "X   #   X   #   X   #   X   #   X   #   X   #   \n",
      "2   4   6   8   10  12  14  16  18  20  22  24  \n",
      "#   #   #   #   #   #   #   #   #   #   #   #   \n",
      "3   6   9   12  15  18  21  24  27  30  33  36  \n",
      "X   #   X   #   X   #   X   #   X   #   X   #   \n",
      "4   8   12  16  20  24  28  32  36  40  44  48  \n",
      "#   #   #   #   #   #   #   #   #   #   #   #   \n",
      "5   10  15  20  25  30  35  40  45  50  55  60  \n",
      "X   #   X   #   X   #   X   #   X   #   X   #   \n",
      "6   12  18  24  30  36  42  48  54  60  66  72  \n",
      "#   #   #   #   #   #   #   #   #   #   #   #   \n",
      "7   14  21  28  35  42  49  56  63  70  77  84  \n",
      "X   #   X   #   X   #   X   #   X   #   X   #   \n",
      "8   16  24  32  40  48  56  64  72  80  88  96  \n",
      "#   #   #   #   #   #   #   #   #   #   #   #   \n",
      "9   18  27  36  45  54  63  72  81  90  99  108 \n",
      "X   #   X   #   X   #   X   #   X   #   X   #   \n",
      "10  20  30  40  50  60  70  80  90  100 110 120 \n",
      "#   #   #   #   #   #   #   #   #   #   #   #   \n",
      "11  22  33  44  55  66  77  88  99  110 121 132 \n",
      "X   #   X   #   X   #   X   #   X   #   X   #   \n",
      "12  24  36  48  60  72  84  96  108 120 132 144 \n",
      "#   #   #   #   #   #   #   #   #   #   #   #   \n"
     ]
    }
   ],
   "source": [
    "def tabel(n):\n",
    "    for i in range(1, n + 1):\n",
    "        for j in range(1, n + 1):\n",
    "            hasil = i * j\n",
    "            print(f\"{hasil:<3}\", end=\" \")\n",
    "        print()\n",
    "        \n",
    "        for j in range(1, n + 1):\n",
    "            hasil = i * j\n",
    "            simbol = garis(hasil)\n",
    "            print(f\"{simbol:<3}\", end=\" \")\n",
    "        print()\n",
    "\n",
    "tabel(12)\n"
   ]
  }
 ],
 "metadata": {
  "kernelspec": {
   "display_name": "Python 3",
   "language": "python",
   "name": "python3"
  },
  "language_info": {
   "codemirror_mode": {
    "name": "ipython",
    "version": 3
   },
   "file_extension": ".py",
   "mimetype": "text/x-python",
   "name": "python",
   "nbconvert_exporter": "python",
   "pygments_lexer": "ipython3",
   "version": "3.10.11"
  }
 },
 "nbformat": 4,
 "nbformat_minor": 2
}
